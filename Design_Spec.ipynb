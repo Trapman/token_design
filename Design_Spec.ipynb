
Consensys Spec
Summary
The following is the work in progress towards the spec for the consensys system. There is still much left to do and fill in but this should serve as an introduction to some of the system specification.

Purpose of the Spec
The spec is dynamic allowing for easily linking and changing policies and mechanisms. In the current form we have the actions that take place, and then we can iterate on candidate policies that specify the exact logic.

State Definitions
As more actions are mapped, the states that need to be tracked for each entity are updated.

Behavioral Actions
These are any of the behaviors that we see an entity calling to initiate a chain of actions.

Policies
These are the blocks that take a message and map out what policies or mechanisms to call next as well as the new messages to pass to them. This is where logic such as exchange rates, quality of service metrics, etc would happen. The policy options are the specific implementations of the policy.

Mechanisms
These are the blocks that update state in the system.

Messages
These are the inputs/outputs passed between behavioral actions, policies, and mechanisms.

Mapping Legend
Cylinder: Entity

Orange Diamond: Behavioral Action

Red Square: Policy

Blue Circle: Mechanism

Colored Arrow: Message Passing with Specific Message

Dotted Arrow: Optional Call (Depends on Implementation)

import sys
sys.path.insert(1, '/Users/seanmcowen/Dropbox')
from edges import all_edges
from behavioral import behavioral_action_space
from MathSpecMapping import create_graph, write_out_behavioral_functions, Edge, create_description_sets
from IPython.display import display_html
from policy_options import policy_options
from MathSpecMapping import write_spec_details, write_state_variable_table, write_local_state_variable_tables, write_global_state_variable_tables, write_state_parameter_table, write_full_state_section
from mechanisms import mechanisms
from policy import policies
description_sets = create_description_sets(all_edges)
from states import (TreasuryState, IngressGatewayState, PublicBulletinBoardState,
                   TargetBlockChainState, NodeRegistryState, FullSystemState,
                   NodeOperatorState, NetworkWatcherState, IngressOperatorState,
                    RPCConsumerState, UserApplicationState)
from parameters import GlobalParametersSystem, TreasuryParameters, NetworkWatcherParameters
from metrics import GlobalMetrics, LocalMetrics


all_state_dictionaries = {"system_state": FullSystemState,
                         "system_parameters": GlobalParametersSystem,
                         "global_states": [{"header": "Treasury State",
                                   "target_state": TreasuryState},
                                                {"header": "Ingress Gateway State",
                                                "target_state": IngressGatewayState},
                                                {"header": "Public Bulletin Board State",
                                                "target_state": PublicBulletinBoardState},
                                                {"header": "Node Registry State",
                                                "target_state": NodeRegistryState}],
                          "global_parameters": [{"header": "Treasury Parameters",
                                   "target_state": TreasuryParameters}],
                          "global_metrics": GlobalMetrics,
                         "local_states": [{"header": "Node Operator State",
                                   "target_state": NodeOperatorState},
                                               {"header": "Network Watcher State",
                                                "target_state": NetworkWatcherState},
                                               {"header": "Ingress Operator State",
                                                "target_state": IngressOperatorState},
                                               {"header": "RPC Consumer State",
                                                "target_state": RPCConsumerState},
                                               {"header": "User Application State",
                                                "target_state": UserApplicationState}],
                         "local_parameters": [{"header": "Network Watcher Parameters",
                                              "target_state": NetworkWatcherParameters}],
                         "local_metrics": LocalMetrics}

display_html(write_full_state_section(all_state_dictionaries), raw=True)
Global States
System State
Name	Description	Type	Symbol	Domain
Time	The current time in the system		T	
Treasury State
Name	Description	Type	Symbol	Domain
ExfuraToken	The funds which the treasury holds on hand			
StakeMap	A dictionary which maps a user address to the amount of stake that address has in the system	typing.Dict[primitives.NodeOperatorAddress, primitives.ExfuraToken]		
FiatCurrency	The amount of fiat currency within the treasury			
Ingress Gateway State
Name	Description	Type	Symbol	Domain
APIRequestQueue	The queue of requests in the ingress gateway which have not yet been taken care of	typing.List[primitives.APIRequest]		
Public Bulletin Board State
Name	Description	Type	Symbol	Domain
PublicBulletinPosts	The posts sent to the public bulletin board	typing.List[str]		
Node Registry State
Name	Description	Type	Symbol	Domain
NFTCollection	The licenses that have been allocated in the system for operators to be using	typing.List[primitives.NFT]		
Global Parameters
System Parameters
Name	Description	Type	Symbol
Minimum Quality of Service	The minimum quality of service that is accepted within the system		 
 
Treasury Parameters
Name	Description	Type	Symbol
Minimum Treasury Funds	The minimum amount of funds that need to be held in the treasury		
Global Metrics
Name	Description	Value	Domain
Average Quality of Service	The average quality of service in the system		
Local States
Node Operator State
Name	Description	Type	Symbol	Domain
NodeOperatorAddress	The address of the node operator			{0,1}^140
ExfuraToken	Funds in native exfura the node operator has in their account			
FiatCurrency	Fiat funds a node operator has			
Network Watcher State
Name	Description	Type	Symbol	Domain
NetworkWatcherAddress	The address of the network watcher			{0,1}^140
ExfuraToken	Funds in native exfura the network watcher has in their account			
FiatCurrency	Fiat funds a network watcher has			
Ingress Operator State
Name	Description	Type	Symbol	Domain
IngressOperatorAddress	The address of the ingress operator			{0,1}^140
ExfuraToken	Funds in native exfura the ingress operator has in their account			
FiatCurrency	Fiat funds an ingress operator has			
RPC Consumer State
Name	Description	Type	Symbol	Domain
RPCConsumerAddress	The address of the rpc consumer			{0,1}^140
ExfuraToken	Funds in native exfura the rpc consumer has in their account			
ComputeCredits	The amount of compute credits that a RPC consumer has attributed to their account			
FiatCurrency	Fiat funds a rpc consumer has			
User Application State
Name	Description	Type	Symbol	Domain
UserApplicationAddress	The address of the user application			{0,1}^140
ExfuraToken	Funds in native exfura the user application has in their account			
FiatCurrency	Fiat funds a user application has			
Local Parameters
Network Watcher Parameters
Name	Description	Type	Symbol
Minimum Query Refresh Time	The minimum amount of epochs which must be waited before querying the same node operator again		
Local Metrics
Name	Description	Value	Domain
Number of Operators	The number of operators in the system at a given time		
actions_to_map = ["Earn Staking Rewards",
                  "Vote for Slashing",
                  "Vote for New NFT",
                  "Win Dutch Auction",
                  "Purchase Compute Credits",
                  "Buyback for Burn",
                  "Monitor Performance",
                  "App API Request Via Ingress",
                  "Increase Stake", "Decrease Stake",
                  "Delegate to Node Operator",
                  "Receive and Process API Request",
                  "Submit RPC Request"]
all_nodes = create_graph(actions_to_map, "Full Map", behavioral_action_space, all_edges)
display_html(write_spec_details(all_nodes,
                   behavioral_action_space, policies, mechanisms, description_sets, policy_options), raw=True)
Message Legend:

grey: InitiateStakingRewardMessage -> {'called_by': typing.Union[primitives.NodeOperatorAddress, primitives.RPCConsumerAddress, primitives.UserApplicationAddress, primitives.IngressOperatorAddress, primitives.NetworkWatcherAddress], 'called_at': }

grey: VoteForSlashingMessage -> {'called_by': , 'operator': , 'called_at': , 'details': }

grey: NFTVoteMessage -> {'vote': }

grey: LicenseStakeMessage -> {'node_operator_address': , 'token_amount': }

red: PurchaseComputeCreditsMessage -> {'address': , 'payment': }

yellow: BuyBackMessage -> {'seller_address': typing.Union[primitives.NodeOperatorAddress, primitives.RPCConsumerAddress, primitives.UserApplicationAddress, primitives.IngressOperatorAddress, primitives.NetworkWatcherAddress], 'token_amount': , 'fiat_amount': }

blue: AppApiRequestMessage -> {'address': , 'request_details': }

grey: StakeMessage -> {'staker_address': typing.Union[primitives.NodeOperatorAddress, primitives.RPCConsumerAddress, primitives.UserApplicationAddress, primitives.IngressOperatorAddress, primitives.NetworkWatcherAddress], 'token_amount': }

purple: StakingRewardMessage -> {'called_by': typing.Union[primitives.NodeOperatorAddress, primitives.RPCConsumerAddress, primitives.UserApplicationAddress, primitives.IngressOperatorAddress, primitives.NetworkWatcherAddress], 'called_at': , 'reward_amount': }

pink: SlashingMessage -> {'called_by': , 'operator': , 'called_at': , 'details': , 'slashed_amount': }

red: NFTAuctionStartMessage -> {'details': }

green: TransferComputeCreditsMessage -> {'address': , 'credits': }

purple: AppApiResponseMessage -> {'address': , 'request_details': , 'response_details': }

orange: PublicBulletinPostMessage -> {'operator_address': , 'watcher_address': , 'details': }

b'
Ingress Operator
Earn Staking Rewards
Vote for New NFT
Increase Stake
Decrease Stake
RPC Consumer
Purchase Compute Credits
Delegate to Node Operator
Submit RPC Request
User Application
App API Request Via Ingress
Treasury
Buyback for Burn
Node Operator
Win Dutch Auction
Receive and Process API Request
Network Watcher
Vote for Slashing
Monitor Performance
Earn Staking Rewards Policy
Slashing Policy
New NFT Creation Policy
Stake for License Policy
Purchase Compute Credits Policy
Buyback for Burn Policy
Monitor Performance Send API Request
App API Request Via Ingress Policy
Increase Stake Policy
Decrease Stake Policy
Increase Token Holder Funds
Decrease Treasury Funds
Decrease Treasury Stake
Initiate Dutch Auction
Increase Stake Policy (Node Operator)
Allocate NFT License
Decrease User Tokens
Increase User Compute Credits
Decrease Token Holder Funds
Increase User Fiat Currency
Decrease Treasury Fiat Currency
Monitor Performance Receive API Request
Ingress Gateway Add Request
Treasury Stake Inflow
Treasury Stake Outflow
Node Operator.funds
Network Watcher.funds
RPC Consumer.funds
User Application.funds
Ingress Operator.funds
Treasury.funds
Treasury.stake
Decrease Token Holder Funds (Node Operator)
Node Registry.licenses
RPC Consumer.compute_credits
Node Operator.fiat_currency
Network Watcher.fiat_currency
RPC Consumer.fiat_currency
User Application.fiat_currency
Ingress Operator.fiat_currency
Treasury.fiat_currency
Post Watcher Details
Ingress Gateway.request_queue
Public Bulletin Board.watcher_posts
Node Operator
Network Watcher
RPC Consumer
User Application
Ingress Operator
Treasury
Node Registry
Ingress Gateway
Public Bulletin Board
\n'
Behavioral Action Space
Earn Staking Rewards
The process by which an entity calls for earning their rewards from staking

Called By:
1. Node Operator

2. Network Watcher

3. RPC Consumer

4. User Application

5. Ingress Operator

Constraints:
1. The user must have stake in the treasury

Vote for Slashing
The process by which network watchers decide who should be slashed

Called By:
1. Network Watcher

Constraints:
Vote for New NFT
The behavior for starting the dutch auction process

Called By:
1. Node Operator

2. Network Watcher

3. RPC Consumer

4. User Application

5. Ingress Operator

Constraints:
Win Dutch Auction
The action for putting down stake to get a license after winning a dutch auction for the NFT.

Called By:
1. Node Operator

Constraints:
Purchase Compute Credits
RPC consumers can purchase compute credits to be used within the network

Called By:
1. RPC Consumer

Constraints:
Buyback for Burn
The process by which a treasury buys back exfura and burns it to decrease token supply

Called By:
1. Treasury

Constraints:
Monitor Performance
Watchers can monitor the performance of node operators

Called By:
1. Network Watcher

Constraints:
App API Request Via Ingress
An app makes a request on the API

Called By:
1. User Application

Constraints:
Increase Stake
The behavior of adding new stake

Called By:
1. Node Operator

2. Network Watcher

3. RPC Consumer

4. User Application

5. Ingress Operator

Constraints:
Decrease Stake
The behavior of decreasing stake

Called By:
1. Node Operator

2. Network Watcher

3. RPC Consumer

4. User Application

5. Ingress Operator

Constraints:
Delegate to Node Operator
Token holders may signal their support for specific node operators by delegating their Exfura tokens to them. The delegators receive rewards for supporting the most performant node operators and get slashed otherwise.

Called By:
1. Network Watcher

2. RPC Consumer

3. User Application

Constraints:
Receive and Process API Request
This is the action of a node operator doing the work for API requests

Called By:
1. Node Operator

Constraints:
Submit RPC Request
The behavioral action of an RPC consumer submitting a request with the API.

Called By:
1. RPC Consumer

Constraints:
Policies
Earn Staking Rewards Policy
The policy which determines both where a user can earn a staking reward at the current time and what it should be worth.

Preceded By:
1. Earn Staking Rewards

Input Messages:
1. InitiateStakingRewardMessage

Followed By:
1. Increase Token Holder Funds

2. Decrease Treasury Funds

Output Messages:
1. StakingRewardMessage

Constraints:
Policy Options:
1. Placeholder Stake Reward
This is a simple function for how earning stake could work

Input Messages:

1. InitiateStakingRewardMessage

Output Messages:
1. StakingRewardMessage

Logic:
1. Check last reward was after PARAMS.min_reward_days, if false terminate
2. Pull the delta time from last reward and find yield based on parameters, define it as amount
3. Create StakingRewardMessage from the InitiateStakingRewardMessage fields as well as the new field reward_amount = amount
4. Call Increase Token Holder Funds and Decrease Treasury Funds both with this message


Slashing Policy
The policy which takes care of possible stake slashing.

Preceded By:
1. Vote for Slashing

Input Messages:
1. VoteForSlashingMessage

Followed By:
1. Decrease Treasury Stake

Output Messages:
1. SlashingMessage

Constraints:
Policy Options:
1. Placeholder Slashing
This is a simple function for how slashing could work

Input Messages:

1. VoteForSlashingMessage

Output Messages:
1. SlashingMessage

Logic:
1. Check INPUTS[0].details == "SLASH", if not terminate the function
2. Find the amount of stake for INPUTS[0].operator in the treasury, define this as slash_amount
3. Create a variable o1 = SlashingMessage(...INPUTS[0], slashed_amount=slash_amount)
4. Call Decrease Treasury Stake with the o1 message


New NFT Creation Policy
The policy which decides if votes add up to enough for creating a new NFT.

Preceded By:
1. Vote for New NFT

Input Messages:
1. NFTVoteMessage

Followed By:
1. Initiate Dutch Auction

Output Messages:
1. NFTAuctionStartMessage

Constraints:
Stake for License Policy
The policy which determines if the NFT license should be granted, and if so directs any of the mechanisms for granting it.

Preceded By:
1. Win Dutch Auction

Input Messages:
1. LicenseStakeMessage

Followed By:
1. Increase Stake Policy (Node Operator)

2. Allocate NFT License

Output Messages:
1. StakeMessage

Constraints:
Purchase Compute Credits Policy
The policy which takes care of converting funds to compute credits.

Preceded By:
1. Purchase Compute Credits

Input Messages:
1. PurchaseComputeCreditsMessage

Followed By:
1. Decrease User Tokens

2. Increase User Compute Credits

Output Messages:
1. TransferComputeCreditsMessage

2. PurchaseComputeCreditsMessage

Constraints:
Buyback for Burn Policy
The policy which determines how the buyback for burn takes place.

Preceded By:
1. Buyback for Burn

Input Messages:
1. BuyBackMessage

Followed By:
1. Decrease Token Holder Funds

2. Increase User Fiat Currency

3. Decrease Treasury Fiat Currency

Output Messages:
1. BuyBackMessage

Constraints:
Monitor Performance Send API Request
The policy which takes care of how a watcher sends a request to check.

Preceded By:
1. Monitor Performance

Input Messages:
1. AppApiRequestMessage

Followed By:
1. Monitor Performance Receive API Request

Output Messages:
1. AppApiResponseMessage

Constraints:
App API Request Via Ingress Policy
The policy which takes care of any logic around an app api request.

Preceded By:
1. App API Request Via Ingress

Input Messages:
1. AppApiRequestMessage

Followed By:
1. Ingress Gateway Add Request

Output Messages:
1. AppApiRequestMessage

Constraints:
Increase Stake Policy
The policy which determines if staking can be increased.

Preceded By:
1. Increase Stake

Input Messages:
1. StakeMessage

Followed By:
1. Treasury Stake Inflow

2. Decrease Token Holder Funds

Output Messages:
1. StakeMessage

Constraints:
Decrease Stake Policy
The policy which determines if staking can be decreased.

Preceded By:
1. Decrease Stake

Input Messages:
1. StakeMessage

Followed By:
1. Treasury Stake Outflow

2. Increase Token Holder Funds

Output Messages:
1. StakeMessage

Constraints:
Increase Stake Policy (Node Operator)
The policy which determines how to deal with node operator specific staking increases.

Preceded By:
1. Stake for License Policy

Input Messages:
1. StakeMessage

Followed By:
1. Treasury Stake Inflow

2. Decrease Token Holder Funds (Node Operator)

Output Messages:
1. StakeMessage

Constraints:
Monitor Performance Receive API Request
The policy which takes care of how a watcher receives the API request response and then deals with it.

Preceded By:
1. Monitor Performance Send API Request

Input Messages:
1. AppApiResponseMessage

Followed By:
1. Post Watcher Details

Output Messages:
1. PublicBulletinPostMessage

Constraints:
Mechanisms
Increase Token Holder Funds
The mechanism which increases the funds that a token holder has

Input Messages:
1. StakingRewardMessage

2. StakeMessage

Followed By:
Output Messages:
Constraints:
Logic:
Increase the funds at the staker_address (from input message) by the amount (also from input message)

Decrease Treasury Funds
The mechanism which decreases the amount of funds the treasury has

Input Messages:
1. StakingRewardMessage

Followed By:
Output Messages:
Constraints:
Logic:
Decrease the funds attribute for the treasury entity by Input[0].reward_amount

Decrease Treasury Stake
The mechanism which decreases the stake a user has in the treasury

Input Messages:
1. SlashingMessage

Followed By:
Output Messages:
Constraints:
Logic:
Decrease Treasury.stake at Input[0].operator by Input[0].slashed_amount

Initiate Dutch Auction
The mechanism which starts a dutch auction for NFT sale

Input Messages:
1. NFTAuctionStartMessage

Followed By:
Output Messages:
Constraints:
Logic:
Allocate NFT License
The mechanism which allocates a new NFT license

Input Messages:
1. StakeMessage

Followed By:
Output Messages:
Constraints:
Logic:
Decrease User Tokens
The mechanism which decreases the user tokens for payment

Input Messages:
1. PurchaseComputeCreditsMessage

Followed By:
Output Messages:
Constraints:
Logic:
Increase User Compute Credits
The mechanism which increases the user compute credits

Input Messages:
1. TransferComputeCreditsMessage

Followed By:
Output Messages:
Constraints:
Logic:
Decrease Token Holder Funds
The mechanism which decreases the funds that a token holder has

Input Messages:
1. BuyBackMessage

2. StakeMessage

Followed By:
Output Messages:
Constraints:
Logic:
Increase User Fiat Currency
The mechanism which increases the amount of fiat currency a user has

Input Messages:
1. BuyBackMessage

Followed By:
Output Messages:
Constraints:
Logic:
Decrease Treasury Fiat Currency
The mechanism which decreases the amount of fiat currency the treasury has

Input Messages:
1. BuyBackMessage

Followed By:
Output Messages:
Constraints:
Logic:
Ingress Gateway Add Request
The mechanism which takes care of adding a request to the ingress gateway

Input Messages:
1. AppApiRequestMessage

Followed By:
Output Messages:
Constraints:
Logic:
Treasury Stake Inflow
The mechanism which directs new stake into the treasury

Input Messages:
1. StakeMessage

Followed By:
Output Messages:
Constraints:
Logic:
Treasury Stake Outflow
The mechanism which directs new stake out of the treasury

Input Messages:
1. StakeMessage

Followed By:
Output Messages:
Constraints:
Logic:
Decrease Token Holder Funds (Node Operator)
The mechanism which decreases the funds that a node operator has

Input Messages:
1. StakeMessage

Followed By:
Output Messages:
Constraints:
Logic:
Post Watcher Details
The mechanism which takes a given watcher report of performance and posts it to the public bulletin

Input Messages:
1. PublicBulletinPostMessage

Followed By:
Output Messages:
Constraints:
Logic:
actions_to_map = ["Earn Staking Rewards"]
all_nodes = create_graph(actions_to_map, "Earn Staking Rewards", behavioral_action_space, all_edges)
display_html(write_spec_details(all_nodes,
                   behavioral_action_space, policies, mechanisms, description_sets, policy_options), raw=True)
Message Legend:

grey: InitiateStakingRewardMessage -> {'called_by': typing.Union[primitives.NodeOperatorAddress, primitives.RPCConsumerAddress, primitives.UserApplicationAddress, primitives.IngressOperatorAddress, primitives.NetworkWatcherAddress], 'called_at': }

purple: StakingRewardMessage -> {'called_by': typing.Union[primitives.NodeOperatorAddress, primitives.RPCConsumerAddress, primitives.UserApplicationAddress, primitives.IngressOperatorAddress, primitives.NetworkWatcherAddress], 'called_at': , 'reward_amount': }

b'
Ingress Operator
Earn Staking Rewards
RPC Consumer
User Application
Node Operator
Network Watcher
Earn Staking Rewards Policy
Increase Token Holder Funds
Decrease Treasury Funds
Node Operator.funds
Network Watcher.funds
RPC Consumer.funds
User Application.funds
Ingress Operator.funds
Treasury.funds
Node Operator
Network Watcher
RPC Consumer
User Application
Ingress Operator
Treasury
\n'
Behavioral Action Space
Earn Staking Rewards
The process by which an entity calls for earning their rewards from staking

Called By:
1. Node Operator

2. Network Watcher

3. RPC Consumer

4. User Application

5. Ingress Operator

Constraints:
1. The user must have stake in the treasury

Policies
Earn Staking Rewards Policy
The policy which determines both where a user can earn a staking reward at the current time and what it should be worth.

Preceded By:
1. Earn Staking Rewards

Input Messages:
1. InitiateStakingRewardMessage

Followed By:
1. Increase Token Holder Funds

2. Decrease Treasury Funds

Output Messages:
1. StakingRewardMessage

Constraints:
Policy Options:
1. Placeholder Stake Reward
This is a simple function for how earning stake could work

Input Messages:

1. InitiateStakingRewardMessage

Output Messages:
1. StakingRewardMessage

Logic:
1. Check last reward was after PARAMS.min_reward_days, if false terminate
2. Pull the delta time from last reward and find yield based on parameters, define it as amount
3. Create StakingRewardMessage from the InitiateStakingRewardMessage fields as well as the new field reward_amount = amount
4. Call Increase Token Holder Funds and Decrease Treasury Funds both with this message


Mechanisms
Increase Token Holder Funds
The mechanism which increases the funds that a token holder has

Input Messages:
1. StakingRewardMessage

2. StakeMessage

Followed By:
Output Messages:
Constraints:
Logic:
Increase the funds at the staker_address (from input message) by the amount (also from input message)

Decrease Treasury Funds
The mechanism which decreases the amount of funds the treasury has

Input Messages:
1. StakingRewardMessage

Followed By:
Output Messages:
Constraints:
Logic:
Decrease the funds attribute for the treasury entity by Input[0].reward_amount

Earn Staking Rewards Questions
This is not automated but called by the participants?
How might we track time since last call for reward?
Is there a pre-determined interface Consensys wants to use?
Also want to figure out the best way to dispaly mechanism logic.
actions_to_map = ["Vote for Slashing"]
all_nodes = create_graph(actions_to_map, "Vote for Slashing", behavioral_action_space, all_edges)
display_html(write_spec_details(all_nodes,
                   behavioral_action_space, policies, mechanisms, description_sets, policy_options), raw=True)
Message Legend:

grey: VoteForSlashingMessage -> {'called_by': , 'operator': , 'called_at': , 'details': }

pink: SlashingMessage -> {'called_by': , 'operator': , 'called_at': , 'details': , 'slashed_amount': }

b'
Network Watcher
Vote for Slashing
Slashing Policy
Decrease Treasury Stake
Treasury.stake
Treasury
\n'
Behavioral Action Space
Vote for Slashing
The process by which network watchers decide who should be slashed

Called By:
1. Network Watcher

Constraints:
Policies
Slashing Policy
The policy which takes care of possible stake slashing.

Preceded By:
1. Vote for Slashing

Input Messages:
1. VoteForSlashingMessage

Followed By:
1. Decrease Treasury Stake

Output Messages:
1. SlashingMessage

Constraints:
Policy Options:
1. Placeholder Slashing
This is a simple function for how slashing could work

Input Messages:

1. VoteForSlashingMessage

Output Messages:
1. SlashingMessage

Logic:
1. Check INPUTS[0].details == "SLASH", if not terminate the function
2. Find the amount of stake for INPUTS[0].operator in the treasury, define this as slash_amount
3. Create a variable o1 = SlashingMessage(...INPUTS[0], slashed_amount=slash_amount)
4. Call Decrease Treasury Stake with the o1 message


Mechanisms
Decrease Treasury Stake
The mechanism which decreases the stake a user has in the treasury

Input Messages:
1. SlashingMessage

Followed By:
Output Messages:
Constraints:
Logic:
Decrease Treasury.stake at Input[0].operator by Input[0].slashed_amount

Slashing Questions
Is slashing algorithmic or voting based?
Who are the entities that can trigger this?
Do the NFT licenses get revoked?
actions_to_map = ["Vote for New NFT"]
all_nodes = create_graph(actions_to_map, "Vote for New NFT", behavioral_action_space, all_edges)
display_html(write_spec_details(all_nodes,
                   behavioral_action_space, policies, mechanisms, description_sets, policy_options), raw=True)
Message Legend:

grey: NFTVoteMessage -> {'vote': }

red: NFTAuctionStartMessage -> {'details': }

b'
Ingress Operator
Vote for New NFT
RPC Consumer
User Application
Node Operator
Network Watcher
New NFT Creation Policy
Initiate Dutch Auction
\n'
Behavioral Action Space
Vote for New NFT
The behavior for starting the dutch auction process

Called By:
1. Node Operator

2. Network Watcher

3. RPC Consumer

4. User Application

5. Ingress Operator

Constraints:
Policies
New NFT Creation Policy
The policy which decides if votes add up to enough for creating a new NFT.

Preceded By:
1. Vote for New NFT

Input Messages:
1. NFTVoteMessage

Followed By:
1. Initiate Dutch Auction

Output Messages:
1. NFTAuctionStartMessage

Constraints:
Mechanisms
Initiate Dutch Auction
The mechanism which starts a dutch auction for NFT sale

Input Messages:
1. NFTAuctionStartMessage

Followed By:
Output Messages:
Constraints:
Logic:
actions_to_map = ["Win Dutch Auction"]
all_nodes = create_graph(actions_to_map, "Win Dutch Auction", behavioral_action_space, all_edges)
display_html(write_spec_details(all_nodes,
                   behavioral_action_space, policies, mechanisms, description_sets, policy_options), raw=True)
Message Legend:

grey: LicenseStakeMessage -> {'node_operator_address': , 'token_amount': }

grey: StakeMessage -> {'staker_address': typing.Union[primitives.NodeOperatorAddress, primitives.RPCConsumerAddress, primitives.UserApplicationAddress, primitives.IngressOperatorAddress, primitives.NetworkWatcherAddress], 'token_amount': }

b'
Node Operator
Win Dutch Auction
Stake for License Policy
Increase Stake Policy (Node Operator)
Allocate NFT License
Treasury Stake Inflow
Decrease Token Holder Funds (Node Operator)
Node Registry.licenses
Treasury.funds
Treasury.stake
Node Operator.funds
Node Registry
Treasury
Node Operator
\n'
Behavioral Action Space
Win Dutch Auction
The action for putting down stake to get a license after winning a dutch auction for the NFT.

Called By:
1. Node Operator

Constraints:
Policies
Stake for License Policy
The policy which determines if the NFT license should be granted, and if so directs any of the mechanisms for granting it.

Preceded By:
1. Win Dutch Auction

Input Messages:
1. LicenseStakeMessage

Followed By:
1. Increase Stake Policy (Node Operator)

2. Allocate NFT License

Output Messages:
1. StakeMessage

Constraints:
Increase Stake Policy (Node Operator)
The policy which determines how to deal with node operator specific staking increases.

Preceded By:
1. Stake for License Policy

Input Messages:
1. StakeMessage

Followed By:
1. Treasury Stake Inflow

2. Decrease Token Holder Funds (Node Operator)

Output Messages:
1. StakeMessage

Constraints:
Mechanisms
Allocate NFT License
The mechanism which allocates a new NFT license

Input Messages:
1. StakeMessage

Followed By:
Output Messages:
Constraints:
Logic:
Treasury Stake Inflow
The mechanism which directs new stake into the treasury

Input Messages:
1. StakeMessage

Followed By:
Output Messages:
Constraints:
Logic:
Decrease Token Holder Funds (Node Operator)
The mechanism which decreases the funds that a node operator has

Input Messages:
1. StakeMessage

Followed By:
Output Messages:
Constraints:
Logic:
actions_to_map = ["Purchase Compute Credits"]
all_nodes = create_graph(actions_to_map, "Purchase Compute Credits", behavioral_action_space, all_edges)
display_html(write_spec_details(all_nodes,
                   behavioral_action_space, policies, mechanisms, description_sets, policy_options), raw=True)
Message Legend:

red: PurchaseComputeCreditsMessage -> {'address': , 'payment': }

green: TransferComputeCreditsMessage -> {'address': , 'credits': }

b'
RPC Consumer
Purchase Compute Credits
Purchase Compute Credits Policy
Decrease User Tokens
Increase User Compute Credits
RPC Consumer.funds
RPC Consumer.compute_credits
RPC Consumer
\n'
Behavioral Action Space
Purchase Compute Credits
RPC consumers can purchase compute credits to be used within the network

Called By:
1. RPC Consumer

Constraints:
Policies
Purchase Compute Credits Policy
The policy which takes care of converting funds to compute credits.

Preceded By:
1. Purchase Compute Credits

Input Messages:
1. PurchaseComputeCreditsMessage

Followed By:
1. Decrease User Tokens

2. Increase User Compute Credits

Output Messages:
1. TransferComputeCreditsMessage

2. PurchaseComputeCreditsMessage

Constraints:
Mechanisms
Decrease User Tokens
The mechanism which decreases the user tokens for payment

Input Messages:
1. PurchaseComputeCreditsMessage

Followed By:
Output Messages:
Constraints:
Logic:
Increase User Compute Credits
The mechanism which increases the user compute credits

Input Messages:
1. TransferComputeCreditsMessage

Followed By:
Output Messages:
Constraints:
Logic:
actions_to_map = ["Buyback for Burn"]
all_nodes = create_graph(actions_to_map, "Buyback for Burn", behavioral_action_space, all_edges)
display_html(write_spec_details(all_nodes,
                   behavioral_action_space, policies, mechanisms, description_sets, policy_options), raw=True)
Message Legend:

yellow: BuyBackMessage -> {'seller_address': typing.Union[primitives.NodeOperatorAddress, primitives.RPCConsumerAddress, primitives.UserApplicationAddress, primitives.IngressOperatorAddress, primitives.NetworkWatcherAddress], 'token_amount': , 'fiat_amount': }

b'
Treasury
Buyback for Burn
Buyback for Burn Policy
Decrease Token Holder Funds
Increase User Fiat Currency
Decrease Treasury Fiat Currency
Node Operator.funds
Network Watcher.funds
RPC Consumer.funds
User Application.funds
Ingress Operator.funds
Node Operator.fiat_currency
Network Watcher.fiat_currency
RPC Consumer.fiat_currency
User Application.fiat_currency
Ingress Operator.fiat_currency
Treasury.fiat_currency
Node Operator
Network Watcher
RPC Consumer
User Application
Ingress Operator
Treasury
\n'
Behavioral Action Space
Buyback for Burn
The process by which a treasury buys back exfura and burns it to decrease token supply

Called By:
1. Treasury

Constraints:
Policies
Buyback for Burn Policy
The policy which determines how the buyback for burn takes place.

Preceded By:
1. Buyback for Burn

Input Messages:
1. BuyBackMessage

Followed By:
1. Decrease Token Holder Funds

2. Increase User Fiat Currency

3. Decrease Treasury Fiat Currency

Output Messages:
1. BuyBackMessage

Constraints:
Mechanisms
Decrease Token Holder Funds
The mechanism which decreases the funds that a token holder has

Input Messages:
1. BuyBackMessage

2. StakeMessage

Followed By:
Output Messages:
Constraints:
Logic:
Increase User Fiat Currency
The mechanism which increases the amount of fiat currency a user has

Input Messages:
1. BuyBackMessage

Followed By:
Output Messages:
Constraints:
Logic:
Decrease Treasury Fiat Currency
The mechanism which decreases the amount of fiat currency the treasury has

Input Messages:
1. BuyBackMessage

Followed By:
Output Messages:
Constraints:
Logic:
actions_to_map = ["Monitor Performance"]
all_nodes = create_graph(actions_to_map, "Monitor Performance", behavioral_action_space, all_edges)
display_html(write_spec_details(all_nodes,
                   behavioral_action_space, policies, mechanisms, description_sets, policy_options), raw=True)
Message Legend:

blue: AppApiRequestMessage -> {'address': , 'request_details': }

purple: AppApiResponseMessage -> {'address': , 'request_details': , 'response_details': }

orange: PublicBulletinPostMessage -> {'operator_address': , 'watcher_address': , 'details': }

b'
Network Watcher
Monitor Performance
Monitor Performance Send API Request
Monitor Performance Receive API Request
Post Watcher Details
Public Bulletin Board.watcher_posts
Public Bulletin Board
\n'
Behavioral Action Space
Monitor Performance
Watchers can monitor the performance of node operators

Called By:
1. Network Watcher

Constraints:
Policies
Monitor Performance Send API Request
The policy which takes care of how a watcher sends a request to check.

Preceded By:
1. Monitor Performance

Input Messages:
1. AppApiRequestMessage

Followed By:
1. Monitor Performance Receive API Request

Output Messages:
1. AppApiResponseMessage

Constraints:
Monitor Performance Receive API Request
The policy which takes care of how a watcher receives the API request response and then deals with it.

Preceded By:
1. Monitor Performance Send API Request

Input Messages:
1. AppApiResponseMessage

Followed By:
1. Post Watcher Details

Output Messages:
1. PublicBulletinPostMessage

Constraints:
Mechanisms
Post Watcher Details
The mechanism which takes a given watcher report of performance and posts it to the public bulletin

Input Messages:
1. PublicBulletinPostMessage

Followed By:
Output Messages:
Constraints:
Logic:
Monitor Performance Questions
Is the process of probing done by a specific algorithm, round robin, etc?
Should we define out the policy for the receive response as check after X amount of time if there is any response, etc?
What does the message to the public bulletin tangibly look like in terms of fields?
actions_to_map = ["App API Request Via Ingress"]
all_nodes = create_graph(actions_to_map, "App API RequestVia Ingress", behavioral_action_space, all_edges)
display_html(write_spec_details(all_nodes,
                   behavioral_action_space, policies, mechanisms, description_sets, policy_options), raw=True)
Message Legend:

blue: AppApiRequestMessage -> {'address': , 'request_details': }

b'
User Application
App API Request Via Ingress
App API Request Via Ingress Policy
Ingress Gateway Add Request
Ingress Gateway.request_queue
Ingress Gateway
\n'
Behavioral Action Space
App API Request Via Ingress
An app makes a request on the API

Called By:
1. User Application

Constraints:
Policies
App API Request Via Ingress Policy
The policy which takes care of any logic around an app api request.

Preceded By:
1. App API Request Via Ingress

Input Messages:
1. AppApiRequestMessage

Followed By:
1. Ingress Gateway Add Request

Output Messages:
1. AppApiRequestMessage

Constraints:
Mechanisms
Ingress Gateway Add Request
The mechanism which takes care of adding a request to the ingress gateway

Input Messages:
1. AppApiRequestMessage

Followed By:
Output Messages:
Constraints:
Logic:
actions_to_map = ["Increase Stake", "Decrease Stake"]
all_nodes = create_graph(actions_to_map, "Staking", behavioral_action_space, all_edges)
display_html(write_spec_details(all_nodes,
                   behavioral_action_space, policies, mechanisms, description_sets, policy_options), raw=True)
Message Legend:

grey: StakeMessage -> {'staker_address': typing.Union[primitives.NodeOperatorAddress, primitives.RPCConsumerAddress, primitives.UserApplicationAddress, primitives.IngressOperatorAddress, primitives.NetworkWatcherAddress], 'token_amount': }

b'
Ingress Operator
Increase Stake
Decrease Stake
RPC Consumer
User Application
Node Operator
Network Watcher
Increase Stake Policy
Decrease Stake Policy
Treasury Stake Inflow
Decrease Token Holder Funds
Treasury Stake Outflow
Increase Token Holder Funds
Treasury.funds
Treasury.stake
Node Operator.funds
Network Watcher.funds
RPC Consumer.funds
User Application.funds
Ingress Operator.funds
Treasury
Node Operator
Network Watcher
RPC Consumer
User Application
Ingress Operator
\n'
Behavioral Action Space
Increase Stake
The behavior of adding new stake

Called By:
1. Node Operator

2. Network Watcher

3. RPC Consumer

4. User Application

5. Ingress Operator

Constraints:
Decrease Stake
The behavior of decreasing stake

Called By:
1. Node Operator

2. Network Watcher

3. RPC Consumer

4. User Application

5. Ingress Operator

Constraints:
Policies
Increase Stake Policy
The policy which determines if staking can be increased.

Preceded By:
1. Increase Stake

Input Messages:
1. StakeMessage

Followed By:
1. Treasury Stake Inflow

2. Decrease Token Holder Funds

Output Messages:
1. StakeMessage

Constraints:
Decrease Stake Policy
The policy which determines if staking can be decreased.

Preceded By:
1. Decrease Stake

Input Messages:
1. StakeMessage

Followed By:
1. Treasury Stake Outflow

2. Increase Token Holder Funds

Output Messages:
1. StakeMessage

Constraints:
Mechanisms
Treasury Stake Inflow
The mechanism which directs new stake into the treasury

Input Messages:
1. StakeMessage

Followed By:
Output Messages:
Constraints:
Logic:
Decrease Token Holder Funds
The mechanism which decreases the funds that a token holder has

Input Messages:
1. BuyBackMessage

2. StakeMessage

Followed By:
Output Messages:
Constraints:
Logic:
Treasury Stake Outflow
The mechanism which directs new stake out of the treasury

Input Messages:
1. StakeMessage

Followed By:
Output Messages:
Constraints:
Logic:
Increase Token Holder Funds
The mechanism which increases the funds that a token holder has

Input Messages:
1. StakingRewardMessage

2. StakeMessage

Followed By:
Output Messages:
Constraints:
Logic:
Increase the funds at the staker_address (from input message) by the amount (also from input message)

actions_to_map = ["Delegate to Node Operator"]
all_nodes = create_graph(actions_to_map, "Delegate to Node Operator", behavioral_action_space, all_edges)
display_html(write_spec_details(all_nodes,
                   behavioral_action_space, policies, mechanisms, description_sets, policy_options), raw=True)
Message Legend:

b'
RPC Consumer
Delegate to Node Operator
User Application
Network Watcher
\n'
Behavioral Action Space
Delegate to Node Operator
Token holders may signal their support for specific node operators by delegating their Exfura tokens to them. The delegators receive rewards for supporting the most performant node operators and get slashed otherwise.

Called By:
1. Network Watcher

2. RPC Consumer

3. User Application

Constraints:
Policies
Mechanisms
actions_to_map = ["Receive and Process API Request"]
all_nodes = create_graph(actions_to_map, "Receive and Process API Request", behavioral_action_space, all_edges)
display_html(write_spec_details(all_nodes,
                   behavioral_action_space, policies, mechanisms, description_sets, policy_options), raw=True)
Message Legend:

b'
Node Operator
Receive and Process API Request
\n'
Behavioral Action Space
Receive and Process API Request
This is the action of a node operator doing the work for API requests

Called By:
1. Node Operator

Constraints:
Policies
Mechanisms
actions_to_map = ["Submit RPC Request"]
all_nodes = create_graph(actions_to_map, "Submit RPC Request", behavioral_action_space, all_edges)
display_html(write_spec_details(all_nodes,
                   behavioral_action_space, policies, mechanisms, description_sets, policy_options), raw=True)
Message Legend:

b'
RPC Consumer
Submit RPC Request
\n'
Behavioral Action Space
Submit RPC Request
The behavioral action of an RPC consumer submitting a request with the API.

Called By:
1. RPC Consumer

Constraints:
Policies
Mechanisms
